{
 "cells": [
  {
   "cell_type": "code",
   "execution_count": 1,
   "metadata": {},
   "outputs": [],
   "source": [
    "import json\n"
   ]
  },
  {
   "cell_type": "code",
   "execution_count": 2,
   "metadata": {},
   "outputs": [
    {
     "name": "stdout",
     "output_type": "stream",
     "text": [
      "#!/bin/sh\n",
      "curl -O ftp://ftp.ddbj.nig.ac.jp/ddbj_database/dra/sralite/ByExp/litesra/DRX/DRX062/DRX062843/DRR068893/DRR068893.sra\n",
      "curl -O ftp://ftp.ddbj.nig.ac.jp/ddbj_database/dra/sralite/ByExp/litesra/DRX/DRX062/DRX062844/DRR068894/DRR068894.sra\n",
      "curl -O ftp://ftp.ddbj.nig.ac.jp/ddbj_database/dra/sralite/ByExp/litesra/DRX/DRX062/DRX062845/DRR068895/DRR068895.sra\n",
      "curl -O ftp://ftp.ddbj.nig.ac.jp/ddbj_database/dra/sra/ByExp/sra/DRX/DRX088/DRX088601/DRR095105/DRR095105.sra\n",
      "curl -O ftp://ftp.ddbj.nig.ac.jp/ddbj_database/dra/sra/ByExp/sra/DRX/DRX088/DRX088602/DRR095106/DRR095106.sra\n",
      "curl -O ftp://ftp.ddbj.nig.ac.jp/ddbj_database/dra/sra/ByExp/sra/DRX/DRX088/DRX088603/DRR095107/DRR095107.sra\n",
      "curl -O ftp://ftp.ddbj.nig.ac.jp/ddbj_database/dra/sra/ByExp/sra/DRX/DRX088/DRX088604/DRR095108/DRR095108.sra\n",
      "curl -O ftp://ftp.ddbj.nig.ac.jp/ddbj_database/dra/sra/ByExp/sra/DRX/DRX088/DRX088605/DRR095109/DRR095109.sra\n",
      "curl -O ftp://ftp.ddbj.nig.ac.jp/ddbj_database/dra/sra/ByExp/sra/DRX/DRX088/DRX088606/DRR095110/DRR095110.sra\n",
      "curl -O ftp://ftp.ddbj.nig.ac.jp/ddbj_database/dra/sra/ByExp/sra/DRX/DRX088/DRX088607/DRR095111/DRR095111.sra\n",
      "curl -O ftp://ftp.ddbj.nig.ac.jp/ddbj_database/dra/sra/ByExp/sra/DRX/DRX088/DRX088608/DRR095112/DRR095112.sra\n",
      "curl -O ftp://ftp.ddbj.nig.ac.jp/ddbj_database/dra/sra/ByExp/sra/DRX/DRX088/DRX088609/DRR095113/DRR095113.sra\n",
      "curl -O ftp://ftp.ddbj.nig.ac.jp/ddbj_database/dra/sra/ByExp/sra/DRX/DRX088/DRX088610/DRR095114/DRR095114.sra\n",
      "curl -O ftp://ftp.ddbj.nig.ac.jp/ddbj_database/dra/sra/ByExp/sra/DRX/DRX088/DRX088611/DRR095115/DRR095115.sra\n",
      "curl -O ftp://ftp.ddbj.nig.ac.jp/ddbj_database/dra/sra/ByExp/sra/DRX/DRX088/DRX088612/DRR095116/DRR095116.sra\n"
     ]
    }
   ],
   "source": [
    "print('#!/bin/sh')\n",
    "f = open('DRP003401.json', 'r')\n",
    "json_dict = json.load(f)\n",
    "for i in range(15):\n",
    "        print('curl -O {}'.format(json_dict['EXPERIMENT_RUN'][i]['RUN']['sra_path']))"
   ]
  },
  {
   "cell_type": "code",
   "execution_count": null,
   "metadata": {},
   "outputs": [],
   "source": []
  }
 ],
 "metadata": {
  "kernelspec": {
   "display_name": "Python 3",
   "language": "python",
   "name": "python3"
  },
  "language_info": {
   "codemirror_mode": {
    "name": "ipython",
    "version": 3
   },
   "file_extension": ".py",
   "mimetype": "text/x-python",
   "name": "python",
   "nbconvert_exporter": "python",
   "pygments_lexer": "ipython3",
   "version": "3.6.7"
  }
 },
 "nbformat": 4,
 "nbformat_minor": 2
}
